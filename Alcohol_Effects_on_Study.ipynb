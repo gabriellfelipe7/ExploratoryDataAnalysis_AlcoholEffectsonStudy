{
  "nbformat": 4,
  "nbformat_minor": 0,
  "metadata": {
    "colab": {
      "provenance": [],
      "authorship_tag": "ABX9TyOxn6hf2bTU48rA4kWwI8Br",
      "include_colab_link": true
    },
    "kernelspec": {
      "name": "python3",
      "display_name": "Python 3"
    },
    "language_info": {
      "name": "python"
    }
  },
  "cells": [
    {
      "cell_type": "markdown",
      "metadata": {
        "id": "view-in-github",
        "colab_type": "text"
      },
      "source": [
        "<a href=\"https://colab.research.google.com/github/gabriellfelipe7/ExploratoryDataAnalysis_AlcoholEffectsonStudy/blob/main/Alcohol_Effects_on_Study.ipynb\" target=\"_parent\"><img src=\"https://colab.research.google.com/assets/colab-badge.svg\" alt=\"Open In Colab\"/></a>"
      ]
    },
    {
      "cell_type": "markdown",
      "source": [
        "# Alcohol Effects on Study\n",
        "Gabriel Felipe Machado de Oliveira, 2022"
      ],
      "metadata": {
        "id": "RQboRfJYhU70"
      }
    },
    {
      "cell_type": "code",
      "execution_count": null,
      "metadata": {
        "id": "m7UZrHlZhPkf"
      },
      "outputs": [],
      "source": []
    }
  ]
}